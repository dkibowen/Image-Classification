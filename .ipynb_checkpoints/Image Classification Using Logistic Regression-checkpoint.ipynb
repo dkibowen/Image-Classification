{
 "cells": [
  {
   "cell_type": "markdown",
   "metadata": {},
   "source": [
    "# Image Classification Using Logistic Regression \n",
    "\n",
    "![title](cat.png) \n",
    "\n",
    "In this project we are going to build and image classifier which identifies cat images with 70% accuracy. \n",
    "This is a replication of Andrew Ng's project in the course titled \"Neural Networks and Deep Learning in the Coursera Platform.\n",
    "\n",
    "**We are going to follow these steps:**\n",
    "\n",
    "- Obtain train and test datasets (stored in h5py file formats) \n",
    "- Vectorize the datasets to allow optimize the learning process. \n",
    "- Learn the logistic regression model parameters using the train dataset \n",
    "- Used the test dataset to test the model\n",
    "\n",
    "**Let us go!**\n",
    "\n",
    "\n",
    "\n"
   ]
  },
  {
   "cell_type": "code",
   "execution_count": null,
   "metadata": {},
   "outputs": [],
   "source": []
  }
 ],
 "metadata": {
  "kernelspec": {
   "display_name": "Python 3",
   "language": "python",
   "name": "python3"
  },
  "language_info": {
   "codemirror_mode": {
    "name": "ipython",
    "version": 3
   },
   "file_extension": ".py",
   "mimetype": "text/x-python",
   "name": "python",
   "nbconvert_exporter": "python",
   "pygments_lexer": "ipython3",
   "version": "3.6.5"
  }
 },
 "nbformat": 4,
 "nbformat_minor": 4
}
