{
 "cells": [
  {
   "cell_type": "markdown",
   "metadata": {},
   "source": [
    "# Image Classification Using Logistic Regression \n",
    "\n",
    "![title](cat2.jpg)\n",
    "\n",
    "In this project we are going to build an image classifier which identifies cat images with 70% accuracy. \n",
    "This is a replication of Andrew Ng's project in the course titled \"Neural Networks and Deep Learning\" in the Coursera Platform.\n",
    "\n",
    "**Statement of Problem**\n",
    "\n",
    "We are presented with data in h5 file format-contain images (split to train and test datasets). We are tasked to build a simple image-recognition algorithm that distinguishes an image as either \"cat\" or \"non-cat\". \n",
    "\n",
    "**We are going to follow these steps:**\n",
    "\n",
    "- Obtain train and test datasets (stored in h5py file formats) \n",
    "- Vectorize the datasets to allow optimize the learning process. \n",
    "- Learn the logistic regression model parameters using the train dataset \n",
    "- Used the test dataset to test the model\n",
    "\n",
    "**Let us go!**\n",
    "\n",
    "\n",
    "\n"
   ]
  },
  {
   "cell_type": "markdown",
   "metadata": {},
   "source": [
    "## Step 1: Import the necessary libraries \n",
    "\n",
    "In this first step we are going to import all the libraries/modules/packages that we will need when building the classifier."
   ]
  },
  {
   "cell_type": "code",
   "execution_count": 2,
   "metadata": {},
   "outputs": [],
   "source": [
    "import numpy as np\n",
    "import matplotlib.pyplot as plt\n",
    "import h5py\n",
    "import scipy\n",
    "from PIL import Image\n",
    "from scipy import ndimage\n",
    "from lr_utils import load_dataset\n",
    "\n",
    "%matplotlib inline"
   ]
  },
  {
   "cell_type": "markdown",
   "metadata": {},
   "source": [
    "## Step 2: Loading, Exploring and Transforming the Data\n",
    "\n",
    "In this step we are going to load the data, explore how the data looks like and make the necessary tranformations in order to optimize the learning process. Specifically we are going to vectorize and normalize the data. "
   ]
  },
  {
   "cell_type": "code",
   "execution_count": 3,
   "metadata": {},
   "outputs": [],
   "source": [
    "# Load the data\n",
    "train_set_x_orig, train_set_y, test_set_x_orig,test_set_y, classes = load_dataset()"
   ]
  },
  {
   "cell_type": "code",
   "execution_count": 11,
   "metadata": {},
   "outputs": [
    {
     "name": "stdout",
     "output_type": "stream",
     "text": [
      "y = [1], it's a 'cat' picture.\n"
     ]
    },
    {
     "data": {
      "image/png": "[encoded data removed]",
      "text/plain": [
       "<Figure size 432x288 with 1 Axes>"
      ]
     },
     "metadata": {
      "needs_background": "light"
     },
     "output_type": "display_data"
    }
   ],
   "source": [
    "# check an example of the data (picture)\n",
    "index = 19\n",
    "plt.imshow(train_set_x_orig[index])\n",
    "print (\"y = \" + str(train_set_y[:, index]) + \", it's a '\" + classes[np.squeeze(train_set_y[:, index])].decode(\"utf-8\") +  \"' picture.\")"
   ]
  },
  {
   "cell_type": "code",
   "execution_count": 16,
   "metadata": {},
   "outputs": [
    {
     "name": "stdout",
     "output_type": "stream",
     "text": [
      "Number of Training Example: m_train = 209\n",
      "Number of Testing Example: m_test = 50\n",
      "Each Image is of size: (64,64,3)\n",
      "Shape of train_set_x: (209, 64, 64, 3)\n",
      "Shape of train_set_y: (1, 209)\n",
      "Shape of test_set_x: (50, 64, 64, 3)\n",
      "Shape of test_set_y: (1, 50)\n"
     ]
    }
   ],
   "source": [
    "# Find out the number of train and test examples in the datasets and well as dimensions of the pictures\n",
    "m_train = train_set_x_orig.shape[0]\n",
    "m_test = test_set_x_orig.shape[0]\n",
    "num_px = train_set_x_orig.shape[1]\n",
    "\n",
    "print('Number of Training Example: m_train = ' + str(m_train))\n",
    "print('Number of Testing Example: m_test = ' + str(m_test))\n",
    "print(\"Each Image is of size: (\"+str(num_px)+\",\"+str(num_px)+\",\"+\"3\"+\")\")\n",
    "print('Shape of train_set_x: '+str(train_set_x_orig.shape))\n",
    "print('Shape of train_set_y: '+str(train_set_y.shape))\n",
    "print('Shape of test_set_x: '+str(test_set_x_orig.shape))\n",
    "print('Shape of test_set_y: '+str(test_set_y.shape))"
   ]
  },
  {
   "cell_type": "code",
   "execution_count": null,
   "metadata": {},
   "outputs": [],
   "source": []
  }
 ],
 "metadata": {
  "kernelspec": {
   "display_name": "Python 3",
   "language": "python",
   "name": "python3"
  },
  "language_info": {
   "codemirror_mode": {
    "name": "ipython",
    "version": 3
   },
   "file_extension": ".py",
   "mimetype": "text/x-python",
   "name": "python",
   "nbconvert_exporter": "python",
   "pygments_lexer": "ipython3",
   "version": "3.6.5"
  }
 },
 "nbformat": 4,
 "nbformat_minor": 4
}
